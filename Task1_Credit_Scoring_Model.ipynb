{
  "nbformat": 4,
  "nbformat_minor": 0,
  "metadata": {
    "colab": {
      "provenance": [],
      "gpuType": "T4",
      "authorship_tag": "ABX9TyN3aMCb/iWDpMMn64Uvxhti",
      "include_colab_link": true
    },
    "kernelspec": {
      "name": "python3",
      "display_name": "Python 3"
    },
    "language_info": {
      "name": "python"
    },
    "accelerator": "GPU"
  },
  "cells": [
    {
      "cell_type": "markdown",
      "metadata": {
        "id": "view-in-github",
        "colab_type": "text"
      },
      "source": [
        "<a href=\"https://colab.research.google.com/github/shuvo8220/Task1-Credit-Scoring-Mode/blob/main/Task1_Credit_Scoring_Model.ipynb\" target=\"_parent\"><img src=\"https://colab.research.google.com/assets/colab-badge.svg\" alt=\"Open In Colab\"/></a>"
      ]
    },
    {
      "cell_type": "markdown",
      "source": [
        "Imports & Constants"
      ],
      "metadata": {
        "id": "B37aweZzyYzD"
      }
    },
    {
      "cell_type": "code",
      "source": [
        "# Imports\n",
        "import os\n",
        "import joblib\n",
        "import numpy as np\n",
        "import pandas as pd\n",
        "import matplotlib.pyplot as plt\n",
        "\n",
        "from sklearn.model_selection import train_test_split, GridSearchCV, StratifiedKFold\n",
        "from sklearn.pipeline import Pipeline\n",
        "from sklearn.compose import ColumnTransformer\n",
        "from sklearn.impute import SimpleImputer\n",
        "from sklearn.preprocessing import StandardScaler, OneHotEncoder\n",
        "from sklearn.linear_model import LogisticRegression\n",
        "from sklearn.tree import DecisionTreeClassifier\n",
        "from sklearn.ensemble import RandomForestClassifier\n",
        "from sklearn.metrics import classification_report, roc_auc_score, roc_curve, confusion_matrix\n",
        "from sklearn.inspection import permutation_importance\n",
        "\n",
        "# Constants\n",
        "RANDOM_STATE = 42\n",
        "ARTIFACT_DIR = \"./credit_model_artifacts\"\n"
      ],
      "metadata": {
        "id": "wB8EgwybtK_n"
      },
      "execution_count": null,
      "outputs": []
    },
    {
      "cell_type": "code",
      "source": [
        "import os\n",
        "\n",
        "os.makedirs(\"./credit_model_artifacts\", exist_ok=True)\n"
      ],
      "metadata": {
        "id": "RYYOeedRuYeL"
      },
      "execution_count": null,
      "outputs": []
    },
    {
      "cell_type": "markdown",
      "source": [
        "Data Generation"
      ],
      "metadata": {
        "id": "v4c2XryMykG-"
      }
    },
    {
      "cell_type": "code",
      "source": [
        "def generate_synthetic_credit_data(n=1500, seed=RANDOM_STATE):\n",
        "    rng = np.random.RandomState(seed)\n",
        "    income = rng.normal(45000, 20000, size=n).clip(5000, 300000)\n",
        "    total_debt = rng.normal(15000, 12000, size=n).clip(0, 200000)\n",
        "    credit_utilization = rng.beta(2, 5, size=n)\n",
        "    num_credit_lines = rng.poisson(4, size=n).clip(1, 30)\n",
        "    num_late_payments = rng.poisson(1.2, size=n)\n",
        "    percent_on_time = (1 - (num_late_payments / (num_credit_lines + 1))).clip(0, 1)\n",
        "    age_of_credit_history = rng.normal(7, 4, size=n).clip(0.5, 50)\n",
        "    num_previous_defaults = rng.binomial(1, 0.05, size=n)\n",
        "    employment_length = rng.normal(5, 3, size=n).clip(0, 40)\n",
        "    employment_type = rng.choice(['salaried', 'self-employed', 'unemployed', 'student'],\n",
        "                                 size=n, p=[0.6, 0.25, 0.1, 0.05])\n",
        "    home_ownership = rng.choice(['mortgage', 'rent', 'own', 'other'],\n",
        "                                size=n, p=[0.45, 0.4, 0.12, 0.03])\n",
        "\n",
        "    risk_score = (\n",
        "        0.00003 * income\n",
        "        - 0.00005 * total_debt\n",
        "        - 2.0 * credit_utilization\n",
        "        + 0.02 * percent_on_time * 100\n",
        "        + 0.03 * age_of_credit_history\n",
        "        - 0.5 * num_previous_defaults\n",
        "        + 0.01 * employment_length\n",
        "        + (employment_type == 'salaried') * 0.5\n",
        "        - (employment_type == 'unemployed') * 1.0\n",
        "    )\n",
        "    prob = 1 / (1 + np.exp(-risk_score))\n",
        "    creditworthy = rng.binomial(1, prob)\n",
        "\n",
        "    df = pd.DataFrame({\n",
        "        'income': income,\n",
        "        'total_debt': total_debt,\n",
        "        'credit_utilization': credit_utilization,\n",
        "        'num_credit_lines': num_credit_lines,\n",
        "        'num_late_payments': num_late_payments,\n",
        "        'percent_on_time': percent_on_time,\n",
        "        'age_of_credit_history': age_of_credit_history,\n",
        "        'num_previous_defaults': num_previous_defaults,\n",
        "        'employment_length': employment_length,\n",
        "        'employment_type': employment_type,\n",
        "        'home_ownership': home_ownership,\n",
        "        'creditworthy': creditworthy\n",
        "    })\n",
        "\n",
        "    # small missingness\n",
        "    for col in ['income', 'employment_length', 'employment_type']:\n",
        "        mask = rng.rand(n) < 0.02\n",
        "        df.loc[mask, col] = np.nan\n",
        "\n",
        "    return df\n"
      ],
      "metadata": {
        "id": "UyCGA6bKtRAX"
      },
      "execution_count": null,
      "outputs": []
    },
    {
      "cell_type": "markdown",
      "source": [
        "Feature Engineering"
      ],
      "metadata": {
        "id": "xKR8fbNOyrBG"
      }
    },
    {
      "cell_type": "code",
      "source": [
        "def add_features(df):\n",
        "    df = df.copy()\n",
        "    df['debt_to_income'] = (df['total_debt'] / (df['income'] + 1)).clip(0, 10)\n",
        "    df['late_payment_rate'] = (df['num_late_payments'] / (df['num_credit_lines'] + 1)).clip(0, 1)\n",
        "    return df\n"
      ],
      "metadata": {
        "id": "n3zXGCOVtW4x"
      },
      "execution_count": null,
      "outputs": []
    },
    {
      "cell_type": "markdown",
      "source": [
        "Preprocessor"
      ],
      "metadata": {
        "id": "E6w_AgG8yxA2"
      }
    },
    {
      "cell_type": "code",
      "source": [
        "def build_preprocessor():\n",
        "    numeric_features = [\n",
        "        'income', 'total_debt', 'debt_to_income', 'credit_utilization', 'num_credit_lines',\n",
        "        'num_late_payments', 'late_payment_rate', 'percent_on_time', 'age_of_credit_history',\n",
        "        'num_previous_defaults', 'employment_length'\n",
        "    ]\n",
        "    categorical_features = ['employment_type', 'home_ownership']\n",
        "\n",
        "    numeric_transformer = Pipeline(steps=[\n",
        "        ('imputer', SimpleImputer(strategy='median')),\n",
        "        ('scaler', StandardScaler())\n",
        "    ])\n",
        "\n",
        "    categorical_transformer = Pipeline(steps=[\n",
        "        ('imputer', SimpleImputer(strategy='most_frequent')),\n",
        "        ('onehot', OneHotEncoder(handle_unknown='ignore', sparse_output=False))\n",
        "    ])\n",
        "\n",
        "    preprocessor = ColumnTransformer(transformers=[\n",
        "        ('num', numeric_transformer, numeric_features),\n",
        "        ('cat', categorical_transformer, categorical_features)\n",
        "    ])\n",
        "\n",
        "    return preprocessor, numeric_features, categorical_features\n"
      ],
      "metadata": {
        "id": "476-nvxotaYw"
      },
      "execution_count": null,
      "outputs": []
    },
    {
      "cell_type": "markdown",
      "source": [
        "Model Definitions"
      ],
      "metadata": {
        "id": "GhSQvh_Ny7Iw"
      }
    },
    {
      "cell_type": "code",
      "source": [
        "def get_models(random_state=RANDOM_STATE):\n",
        "    return {\n",
        "        'LogisticRegression': LogisticRegression(max_iter=1000, class_weight='balanced', random_state=random_state),\n",
        "        'DecisionTree': DecisionTreeClassifier(class_weight='balanced', random_state=random_state),\n",
        "        'RandomForest': RandomForestClassifier(class_weight='balanced', n_jobs=-1, random_state=random_state)\n",
        "    }\n"
      ],
      "metadata": {
        "id": "autakNaEteKH"
      },
      "execution_count": null,
      "outputs": []
    },
    {
      "cell_type": "markdown",
      "source": [
        "Training & Evaluation"
      ],
      "metadata": {
        "id": "WrZ1PkXIy893"
      }
    },
    {
      "cell_type": "code",
      "source": [
        "def train_models(X_train, y_train, X_test, y_test, preprocessor, models_dict):\n",
        "    trained = {}\n",
        "    aucs = {}\n",
        "    probas = {}\n",
        "\n",
        "    for name, model in models_dict.items():\n",
        "        pipe = Pipeline(steps=[('preprocessor', preprocessor), ('classifier', model)])\n",
        "        pipe.fit(X_train, y_train)\n",
        "\n",
        "        y_pred = pipe.predict(X_test)\n",
        "        y_proba = pipe.predict_proba(X_test)[:, 1]\n",
        "\n",
        "        print(f\"\\n===== {name} =====\")\n",
        "        print(classification_report(y_test, y_pred))\n",
        "\n",
        "        auc = roc_auc_score(y_test, y_proba)\n",
        "        print(\"ROC-AUC:\", auc)\n",
        "        print(\"Confusion matrix:\\n\", confusion_matrix(y_test, y_pred))\n",
        "\n",
        "        trained[name] = pipe\n",
        "        aucs[name] = auc\n",
        "        probas[name] = y_proba\n",
        "\n",
        "    return trained, aucs, probas\n"
      ],
      "metadata": {
        "id": "GEIZx792thRP"
      },
      "execution_count": null,
      "outputs": []
    },
    {
      "cell_type": "markdown",
      "source": [
        "RandomForest Tuning"
      ],
      "metadata": {
        "id": "jNjdPzYqzBKz"
      }
    },
    {
      "cell_type": "code",
      "source": [
        "def tune_random_forest(X_train, y_train, preprocessor, cv_splits=3):\n",
        "    param_grid = {\n",
        "        'classifier__n_estimators': [100, 200],\n",
        "        'classifier__max_depth': [None, 8],\n",
        "    }\n",
        "    rf_pipe = Pipeline(steps=[\n",
        "        ('preprocessor', preprocessor),\n",
        "        ('classifier', RandomForestClassifier(class_weight='balanced', random_state=RANDOM_STATE))\n",
        "    ])\n",
        "\n",
        "    cv = StratifiedKFold(n_splits=cv_splits, shuffle=True, random_state=RANDOM_STATE)\n",
        "    search = GridSearchCV(rf_pipe, param_grid, scoring='roc_auc', cv=cv, n_jobs=-1)\n",
        "    search.fit(X_train, y_train)\n",
        "\n",
        "    return search.best_estimator_, search.best_params_\n"
      ],
      "metadata": {
        "id": "dIeYN5WztlAI"
      },
      "execution_count": null,
      "outputs": []
    },
    {
      "cell_type": "markdown",
      "source": [
        "ROC Curve Plot"
      ],
      "metadata": {
        "id": "UlVezH9mzFPz"
      }
    },
    {
      "cell_type": "code",
      "source": [
        "def plot_roc_curves(probas_dict, aucs_dict, y_test, show_plot=True, save_path=None):\n",
        "    plt.figure(figsize=(8, 6))\n",
        "\n",
        "    for name, y_proba in probas_dict.items():\n",
        "        fpr, tpr, _ = roc_curve(y_test, y_proba)\n",
        "        plt.plot(fpr, tpr, label=f\"{name} (AUC={aucs_dict[name]:.3f})\")\n",
        "\n",
        "    plt.plot([0, 1], [0, 1], '--')\n",
        "    plt.xlabel(\"False Positive Rate\")\n",
        "    plt.ylabel(\"True Positive Rate (Recall)\")\n",
        "    plt.title(\"ROC Curves\")\n",
        "    plt.legend(loc='lower right')\n",
        "    plt.grid(True)\n",
        "\n",
        "    if save_path:\n",
        "        plt.savefig(save_path, bbox_inches='tight')\n",
        "    if show_plot:\n",
        "        plt.show()\n",
        "    plt.close()\n"
      ],
      "metadata": {
        "id": "dtIkP_9htowv"
      },
      "execution_count": null,
      "outputs": []
    },
    {
      "cell_type": "markdown",
      "source": [
        "Permutation Importance"
      ],
      "metadata": {
        "id": "sgpIEUQYzIWi"
      }
    },
    {
      "cell_type": "code",
      "source": [
        "def permutation_importance_report(best_pipeline, X_test, y_test, numeric_features, categorical_features, n_repeats=3):\n",
        "    X_test_transformed = best_pipeline.named_steps['preprocessor'].transform(X_test)\n",
        "    r = permutation_importance(best_pipeline.named_steps['classifier'], X_test_transformed, y_test,\n",
        "                               n_repeats=n_repeats, random_state=RANDOM_STATE, n_jobs=-1)\n",
        "    ohe = best_pipeline.named_steps['preprocessor'].named_transformers_['cat'].named_steps['onehot']\n",
        "    ohe_feature_names = list(ohe.get_feature_names_out(categorical_features))\n",
        "    feature_names = numeric_features + ohe_feature_names\n",
        "    perm_importances = pd.Series(r.importances_mean, index=feature_names).sort_values(ascending=False)\n",
        "    return perm_importances\n",
        "\n"
      ],
      "metadata": {
        "id": "wQHL4oNntth1"
      },
      "execution_count": null,
      "outputs": []
    },
    {
      "cell_type": "markdown",
      "source": [
        "Save Artifacts"
      ],
      "metadata": {
        "id": "k1vOk2X4zL5e"
      }
    },
    {
      "cell_type": "code",
      "source": [
        "def save_artifacts(trained_pipelines, df, artifact_dir=ARTIFACT_DIR):\n",
        "    os.makedirs(artifact_dir, exist_ok=True)\n",
        "\n",
        "    for name, pipe in trained_pipelines.items():\n",
        "        path = os.path.join(artifact_dir, f\"{name}_pipeline.joblib\")\n",
        "        joblib.dump(pipe, path)\n",
        "\n",
        "    csv_path = os.path.join(artifact_dir, \"full_synthetic_credit_dataset.csv\")\n",
        "    df.to_csv(csv_path, index=False)\n",
        "    print(f\"Saved artifacts to {artifact_dir}\")\n"
      ],
      "metadata": {
        "id": "5bSwox9UtxWV"
      },
      "execution_count": null,
      "outputs": []
    },
    {
      "cell_type": "markdown",
      "source": [
        "Main Orchestration"
      ],
      "metadata": {
        "id": "F8nsiHVxzPh8"
      }
    },
    {
      "cell_type": "code",
      "source": [
        "def main():\n",
        "    df = generate_synthetic_credit_data(n=1500)\n",
        "    df = add_features(df)\n",
        "\n",
        "    target = 'creditworthy'\n",
        "    feature_cols = [\n",
        "        'income', 'total_debt', 'debt_to_income', 'credit_utilization', 'num_credit_lines',\n",
        "        'num_late_payments', 'late_payment_rate', 'percent_on_time', 'age_of_credit_history',\n",
        "        'num_previous_defaults', 'employment_length', 'employment_type', 'home_ownership'\n",
        "    ]\n",
        "\n",
        "    X = df[feature_cols]\n",
        "    y = df[target]\n",
        "    X_train, X_test, y_train, y_test = train_test_split(\n",
        "        X, y, test_size=0.2, stratify=y, random_state=RANDOM_STATE\n",
        "    )\n",
        "\n",
        "    preprocessor, numeric_features, categorical_features = build_preprocessor()\n",
        "    models = get_models()\n",
        "\n",
        "    trained, aucs, probas = train_models(X_train, y_train, X_test, y_test, preprocessor, models)\n",
        "\n",
        "    best_rf, best_params = tune_random_forest(X_train, y_train, preprocessor, cv_splits=3)\n",
        "    print(\"Best RF params:\", best_params)\n",
        "\n",
        "    best_rf_proba = best_rf.predict_proba(X_test)[:, 1]\n",
        "    best_rf_auc = roc_auc_score(y_test, best_rf_proba)\n",
        "    print(\"Best RF ROC-AUC on test:\", best_rf_auc)\n",
        "\n",
        "    trained['RandomForest_Tuned'] = best_rf\n",
        "    aucs['RandomForest_Tuned'] = best_rf_auc\n",
        "    probas['RandomForest_Tuned'] = best_rf_proba\n",
        "\n",
        "    plot_roc_curves(probas, aucs, y_test, save_path=os.path.join(ARTIFACT_DIR, \"roc_curves.png\"))\n",
        "\n",
        "    perm_importances = permutation_importance_report(best_rf, X_test, y_test, numeric_features, categorical_features, n_repeats=3)\n",
        "    print(\"\\nTop permutation importances:\\n\", perm_importances.head(15))\n",
        "\n",
        "    save_artifacts(trained, df, artifact_dir=ARTIFACT_DIR)\n"
      ],
      "metadata": {
        "id": "wBM2MdLQt1Pj"
      },
      "execution_count": null,
      "outputs": []
    },
    {
      "cell_type": "markdown",
      "source": [
        "Run the Pipeline"
      ],
      "metadata": {
        "id": "Nl5luW_tzTLI"
      }
    },
    {
      "cell_type": "code",
      "source": [
        "if __name__ == \"__main__\":\n",
        "    main()\n"
      ],
      "metadata": {
        "colab": {
          "base_uri": "https://localhost:8080/",
          "height": 1000
        },
        "id": "B_NkcyQmt7R9",
        "outputId": "8d9203db-8d08-43d5-b53d-401234c14013"
      },
      "execution_count": null,
      "outputs": [
        {
          "output_type": "stream",
          "name": "stdout",
          "text": [
            "\n",
            "===== LogisticRegression =====\n",
            "              precision    recall  f1-score   support\n",
            "\n",
            "           0       0.32      0.56      0.41        52\n",
            "           1       0.89      0.75      0.81       248\n",
            "\n",
            "    accuracy                           0.72       300\n",
            "   macro avg       0.60      0.65      0.61       300\n",
            "weighted avg       0.79      0.72      0.74       300\n",
            "\n",
            "ROC-AUC: 0.7424782878411911\n",
            "Confusion matrix:\n",
            " [[ 29  23]\n",
            " [ 62 186]]\n",
            "\n",
            "===== DecisionTree =====\n",
            "              precision    recall  f1-score   support\n",
            "\n",
            "           0       0.42      0.31      0.36        52\n",
            "           1       0.86      0.91      0.89       248\n",
            "\n",
            "    accuracy                           0.81       300\n",
            "   macro avg       0.64      0.61      0.62       300\n",
            "weighted avg       0.79      0.81      0.79       300\n",
            "\n",
            "ROC-AUC: 0.6094913151364765\n",
            "Confusion matrix:\n",
            " [[ 16  36]\n",
            " [ 22 226]]\n",
            "\n",
            "===== RandomForest =====\n",
            "              precision    recall  f1-score   support\n",
            "\n",
            "           0       0.75      0.06      0.11        52\n",
            "           1       0.83      1.00      0.91       248\n",
            "\n",
            "    accuracy                           0.83       300\n",
            "   macro avg       0.79      0.53      0.51       300\n",
            "weighted avg       0.82      0.83      0.77       300\n",
            "\n",
            "ROC-AUC: 0.7274736352357319\n",
            "Confusion matrix:\n",
            " [[  3  49]\n",
            " [  1 247]]\n",
            "Best RF params: {'classifier__max_depth': 8, 'classifier__n_estimators': 100}\n",
            "Best RF ROC-AUC on test: 0.7185173697270472\n"
          ]
        },
        {
          "output_type": "display_data",
          "data": {
            "text/plain": [
              "<Figure size 800x600 with 1 Axes>"
            ],
            "image/png": "[encoded data removed]"
          },
          "metadata": {}
        },
        {
          "output_type": "stream",
          "name": "stdout",
          "text": [
            "\n",
            "Top permutation importances:\n",
            " debt_to_income              0.014444\n",
            "employment_length           0.012222\n",
            "total_debt                  0.006667\n",
            "num_credit_lines            0.006667\n",
            "credit_utilization          0.006667\n",
            "income                      0.005556\n",
            "num_late_payments           0.003333\n",
            "percent_on_time             0.003333\n",
            "employment_type_salaried    0.002222\n",
            "home_ownership_mortgage     0.001111\n",
            "age_of_credit_history       0.001111\n",
            "home_ownership_own          0.001111\n",
            "employment_type_student     0.000000\n",
            "home_ownership_rent         0.000000\n",
            "late_payment_rate          -0.001111\n",
            "dtype: float64\n",
            "Saved artifacts to ./credit_model_artifacts\n"
          ]
        }
      ]
    },
    {
      "cell_type": "markdown",
      "source": [],
      "metadata": {
        "id": "XtVmxGMEzaaU"
      }
    }
  ]
}